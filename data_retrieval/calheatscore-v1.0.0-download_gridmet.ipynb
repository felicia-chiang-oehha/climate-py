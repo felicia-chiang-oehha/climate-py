{
 "cells": [
  {
   "cell_type": "code",
   "execution_count": 241,
   "metadata": {},
   "outputs": [],
   "source": [
    "# Download grid met data\n",
    "\n",
    "#import library\n",
    "import numpy as np\n",
    "import requests"
   ]
  },
  {
   "cell_type": "code",
   "execution_count": 242,
   "metadata": {
    "scrolled": true
   },
   "outputs": [
    {
     "name": "stdout",
     "output_type": "stream",
     "text": [
      "tmmx\n",
      "K:\\\\gridmet\\\\tmmx_1979.nc downloaded.\n",
      "K:\\\\gridmet\\\\tmmx_1980.nc downloaded.\n",
      "K:\\\\gridmet\\\\tmmx_1981.nc downloaded.\n",
      "K:\\\\gridmet\\\\tmmx_1982.nc downloaded.\n",
      "K:\\\\gridmet\\\\tmmx_1983.nc downloaded.\n",
      "K:\\\\gridmet\\\\tmmx_1984.nc downloaded.\n",
      "K:\\\\gridmet\\\\tmmx_1985.nc downloaded.\n",
      "K:\\\\gridmet\\\\tmmx_1986.nc downloaded.\n",
      "K:\\\\gridmet\\\\tmmx_1987.nc downloaded.\n",
      "K:\\\\gridmet\\\\tmmx_1988.nc downloaded.\n",
      "K:\\\\gridmet\\\\tmmx_1989.nc downloaded.\n",
      "K:\\\\gridmet\\\\tmmx_1990.nc downloaded.\n",
      "tmmn\n",
      "K:\\\\gridmet\\\\tmmn_1979.nc downloaded.\n",
      "K:\\\\gridmet\\\\tmmn_1980.nc downloaded.\n",
      "K:\\\\gridmet\\\\tmmn_1981.nc downloaded.\n",
      "K:\\\\gridmet\\\\tmmn_1982.nc downloaded.\n",
      "K:\\\\gridmet\\\\tmmn_1983.nc downloaded.\n",
      "K:\\\\gridmet\\\\tmmn_1984.nc downloaded.\n",
      "K:\\\\gridmet\\\\tmmn_1985.nc downloaded.\n",
      "K:\\\\gridmet\\\\tmmn_1986.nc downloaded.\n",
      "K:\\\\gridmet\\\\tmmn_1987.nc downloaded.\n",
      "K:\\\\gridmet\\\\tmmn_1988.nc downloaded.\n",
      "K:\\\\gridmet\\\\tmmn_1989.nc downloaded.\n",
      "K:\\\\gridmet\\\\tmmn_1990.nc downloaded.\n",
      "rmin\n",
      "K:\\\\gridmet\\\\rmin_1979.nc downloaded.\n",
      "K:\\\\gridmet\\\\rmin_1980.nc downloaded.\n",
      "K:\\\\gridmet\\\\rmin_1981.nc downloaded.\n",
      "K:\\\\gridmet\\\\rmin_1982.nc downloaded.\n",
      "K:\\\\gridmet\\\\rmin_1983.nc downloaded.\n",
      "K:\\\\gridmet\\\\rmin_1984.nc downloaded.\n",
      "K:\\\\gridmet\\\\rmin_1985.nc downloaded.\n",
      "K:\\\\gridmet\\\\rmin_1986.nc downloaded.\n",
      "K:\\\\gridmet\\\\rmin_1987.nc downloaded.\n",
      "K:\\\\gridmet\\\\rmin_1988.nc downloaded.\n",
      "K:\\\\gridmet\\\\rmin_1989.nc downloaded.\n",
      "K:\\\\gridmet\\\\rmin_1990.nc downloaded.\n",
      "rmax\n",
      "K:\\\\gridmet\\\\rmax_1979.nc downloaded.\n",
      "K:\\\\gridmet\\\\rmax_1980.nc downloaded.\n",
      "K:\\\\gridmet\\\\rmax_1981.nc downloaded.\n",
      "K:\\\\gridmet\\\\rmax_1982.nc downloaded.\n",
      "K:\\\\gridmet\\\\rmax_1983.nc downloaded.\n",
      "K:\\\\gridmet\\\\rmax_1984.nc downloaded.\n",
      "K:\\\\gridmet\\\\rmax_1985.nc downloaded.\n",
      "K:\\\\gridmet\\\\rmax_1986.nc downloaded.\n",
      "K:\\\\gridmet\\\\rmax_1987.nc downloaded.\n",
      "K:\\\\gridmet\\\\rmax_1988.nc downloaded.\n",
      "K:\\\\gridmet\\\\rmax_1989.nc downloaded.\n",
      "K:\\\\gridmet\\\\rmax_1990.nc downloaded.\n"
     ]
    }
   ],
   "source": [
    "#for variable\n",
    "#variable = 'tmmx'\n",
    "#variable = 'tmmn'\n",
    "\n",
    "#variablelist = ['tmmx']\n",
    "variablelist = ['tmmx', 'tmmn', 'rmin', 'rmax']\n",
    "#variablelist = ['rmin', 'rmax']\n",
    "\n",
    "for variable in variablelist:\n",
    "    print(variable)\n",
    "\n",
    "    years = np.arange(1979,1991)\n",
    "\n",
    "    #create url list\n",
    "    urllist = ['http://www.northwestknowledge.net/metdata/data/' + variable + '_' + str(year) + '.nc' for year in years]\n",
    "\n",
    "    #create file name list\n",
    "    filenamelist = [r'K:\\\\gridmet\\\\' + variable + '_' + str(year) + '.nc' for year in years]\n",
    "\n",
    "    #download...\n",
    "    for filenum in np.arange(0, len(filenamelist)):\n",
    "        #get the url\n",
    "        response = requests.get(urllist[filenum])\n",
    "        with open(filenamelist[filenum], 'wb') as file:\n",
    "            file.write(response.content)\n",
    "        print(f'{filenamelist[filenum]} downloaded.')"
   ]
  },
  {
   "cell_type": "code",
   "execution_count": null,
   "metadata": {},
   "outputs": [],
   "source": []
  }
 ],
 "metadata": {
  "kernelspec": {
   "display_name": "ArcGISPro",
   "language": "Python",
   "name": "python3"
  },
  "language_info": {
   "file_extension": ".py",
   "name": "python",
   "version": "3"
  }
 },
 "nbformat": 4,
 "nbformat_minor": 2
}
